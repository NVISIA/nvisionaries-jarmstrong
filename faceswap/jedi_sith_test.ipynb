{
 "cells": [
  {
   "cell_type": "markdown",
   "id": "3e81528e",
   "metadata": {},
   "source": [
    "# Test harness for Tensorflow Serving\n",
    "\n",
    "This notebook tests the `jedi_sith` Tensorflow Serving implementation."
   ]
  },
  {
   "cell_type": "code",
   "execution_count": 1,
   "id": "b2b1ddc8",
   "metadata": {},
   "outputs": [],
   "source": [
    "jedi_sith_url = \"http://jedi_sith:8501/v1/models/jedi_sith\""
   ]
  },
  {
   "cell_type": "code",
   "execution_count": 2,
   "id": "f2319b7c",
   "metadata": {},
   "outputs": [],
   "source": [
    "import math\n",
    "import json\n",
    "import requests\n",
    "import numpy as np\n",
    "import tensorflow as tf\n",
    "import cv2\n",
    "from io import BytesIO"
   ]
  },
  {
   "cell_type": "code",
   "execution_count": 3,
   "id": "f8ff8138",
   "metadata": {},
   "outputs": [],
   "source": [
    "def keras_img_to_array(img, data_format=None, dtype=None):\n",
    "    # Copied from Keras 2.11.0\n",
    "    if data_format is None:\n",
    "        data_format = 'channels_last'\n",
    "    if dtype is None:\n",
    "        dtype = \"float32\"\n",
    "    if data_format not in {\"channels_first\", \"channels_last\"}:\n",
    "        raise ValueError(f\"Unknown data_format: {data_format}\")\n",
    "    # Numpy array x has format (height, width, channel)\n",
    "    # or (channel, height, width)\n",
    "    # but original PIL image has format (width, height, channel)\n",
    "    x = np.asarray(img, dtype=dtype)\n",
    "    if len(x.shape) == 3:\n",
    "        if data_format == \"channels_first\":\n",
    "            x = x.transpose(2, 0, 1)\n",
    "    elif len(x.shape) == 2:\n",
    "        if data_format == \"channels_first\":\n",
    "            x = x.reshape((1, x.shape[0], x.shape[1]))\n",
    "        else:\n",
    "            x = x.reshape((x.shape[0], x.shape[1], 1))\n",
    "    else:\n",
    "        raise ValueError(f\"Unsupported image shape: {x.shape}\")\n",
    "    return x\n"
   ]
  },
  {
   "cell_type": "code",
   "execution_count": 4,
   "id": "a7089311",
   "metadata": {},
   "outputs": [],
   "source": [
    "    image_data = cv2.imread(\"data/debug.png\", cv2.IMREAD_COLOR)\n",
    "    image_data = cv2.cvtColor(image_data, cv2.COLOR_BGR2RGB)"
   ]
  },
  {
   "cell_type": "code",
   "execution_count": 5,
   "id": "7ceb2f29",
   "metadata": {},
   "outputs": [],
   "source": [
    "img = keras_img_to_array(image_data)\n",
    "img = img[:,:,:3]\n",
    "img = tf.image.resize(img, [200,200])\n",
    "#img = tf.image.convert_image_dtype(img, tf.float32)\n",
    "img_np = img.numpy().tolist()"
   ]
  },
  {
   "cell_type": "code",
   "execution_count": 6,
   "id": "b6fbd502",
   "metadata": {},
   "outputs": [
    {
     "data": {
      "text/plain": [
       "0.156882837"
      ]
     },
     "execution_count": 6,
     "metadata": {},
     "output_type": "execute_result"
    }
   ],
   "source": [
    "headers = {\"content-type\": \"application/json\"}\n",
    "data = json.dumps({\"signature_name\": \"serving_default\", \"instances\": [img_np]})\n",
    "json_response = requests.post(jedi_sith_url + \":predict\", data=data, headers=headers)\n",
    "predictions = json.loads(json_response.text)['predictions']\n",
    "prediction = predictions[0]\n",
    "score = prediction[0]\n",
    "score"
   ]
  },
  {
   "cell_type": "code",
   "execution_count": 7,
   "id": "ecac496e",
   "metadata": {},
   "outputs": [
    {
     "data": {
      "text/plain": [
       "2"
      ]
     },
     "execution_count": 7,
     "metadata": {},
     "output_type": "execute_result"
    }
   ],
   "source": [
    "score_offset = score * 10\n",
    "score_idx = round(score_offset)\n",
    "score_idx"
   ]
  },
  {
   "cell_type": "code",
   "execution_count": null,
   "id": "48ea80ff",
   "metadata": {},
   "outputs": [],
   "source": []
  }
 ],
 "metadata": {
  "kernelspec": {
   "display_name": "Python 3",
   "language": "python",
   "name": "python3"
  },
  "language_info": {
   "codemirror_mode": {
    "name": "ipython",
    "version": 3
   },
   "file_extension": ".py",
   "mimetype": "text/x-python",
   "name": "python",
   "nbconvert_exporter": "python",
   "pygments_lexer": "ipython3",
   "version": "3.6.9"
  }
 },
 "nbformat": 4,
 "nbformat_minor": 5
}
